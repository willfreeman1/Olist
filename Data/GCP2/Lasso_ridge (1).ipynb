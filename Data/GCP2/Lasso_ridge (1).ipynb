{
 "cells": [
  {
   "cell_type": "code",
   "execution_count": null,
   "metadata": {},
   "outputs": [],
   "source": [
    "\n",
    "library(dplyr)\n",
    "library(Matrix)\n",
    "library(parallel)\n",
    "library(doParallel)\n",
    "library(foreach)"
   ]
  },
  {
   "cell_type": "code",
   "execution_count": null,
   "metadata": {},
   "outputs": [],
   "source": [
    "final_analysis_df = readRDS(\"final_analysis_df.rds\")\n",
    "df_for_encoding = readRDS(\"df_for_encoding.rds\")"
   ]
  },
  {
   "cell_type": "code",
   "execution_count": null,
   "metadata": {},
   "outputs": [],
   "source": [
    "library(dplyr)\n",
    "\n",
    "final_analysis_df = final_analysis_df %>% rename(mean_income_pc = 'mean(income_pc)')"
   ]
  },
  {
   "cell_type": "code",
   "execution_count": null,
   "metadata": {},
   "outputs": [],
   "source": [
    "library(fastDummies)\n",
    "library(Matrix)\n",
    "library(dplyr)\n",
    "\n",
    "# Define your categorical and continuous variables\n",
    "categorical_vars <- c(\"customer_zip_code_prefix\", \"customer_city\", \"customer_state\", \n",
    "                      \"most_common_weekday\", \"most_common_month\", \"urban_rural\")\n",
    "continuous_vars <- c(\"avg_installments\", \"reviews_per_customer\", \"avg_review_score_per_customer\", \"mean_income_pc\")\n",
    "\n",
    "final_analysis_df[continuous_vars] <- scale(final_analysis_df[continuous_vars])\n",
    "\n",
    "\n",
    "# Function to process a batch of data\n",
    "process_batch <- function(batch) {\n",
    "  # Convert categorical variables to factors\n",
    "  batch[categorical_vars] <- lapply(batch[categorical_vars], as.factor)\n",
    "  \n",
    "  # Apply the fastDummies encoding for each categorical variable\n",
    "  for (cat_var in categorical_vars) {\n",
    "    batch <- dummy_cols(batch, select_columns = cat_var, remove_first_dummy = TRUE)\n",
    "  }\n",
    "  \n",
    "  return(batch)\n",
    "}\n",
    "\n",
    "# Split the data into batches\n",
    "batch_size <- 5000  # Adjust this based on your system's memory capacity\n",
    "num_batches <- ceiling(nrow(final_analysis_df) / batch_size)\n",
    "batches <- split(final_analysis_df, ceiling(seq_len(nrow(final_analysis_df)) / batch_size))\n",
    "\n",
    "# Process each batch and combine\n",
    "processed_batches <- lapply(batches, process_batch)\n",
    "df_combined <- do.call(rbind, processed_batches)\n",
    "\n",
    "# Combine with continuous data\n",
    "df_combined <- cbind(df_combined, final_analysis_df[continuous_vars])\n",
    "\n",
    "# Save the identity and outcome variables separately\n",
    "identity_var <- final_analysis_df$customer_unique_id\n",
    "outcome_var <- final_analysis_df$RFM_avg\n",
    "\n",
    "# Exclude identity and outcome variables from the combined dataframe\n",
    "df_combined <- df_combined[, !(names(df_combined) %in% c(\"customer_unique_id\", \"RFM_avg\"))]\n",
    "\n",
    "# Remove the original categorical columns from df_combined\n",
    "df_combined <- df_combined[, !(names(df_combined) %in% categorical_vars)]\n",
    "\n",
    "\n",
    "# Convert to a sparse matrix\n",
    "df_sparse <- as(as.matrix(df_combined), \"sparseMatrix\")\n"
   ]
  },
  {
   "cell_type": "code",
   "execution_count": null,
   "metadata": {},
   "outputs": [],
   "source": [
    "all_numeric <- all(sapply(df_combined, is.numeric))\n",
    "print(paste(\"All columns in df_combined are numeric:\", all_numeric))"
   ]
  },
  {
   "cell_type": "code",
   "execution_count": null,
   "metadata": {},
   "outputs": [],
   "source": [
    "# Save the sparse matrix to an RDS file\n",
    "saveRDS(df_sparse, file = \"df_sparse.rds\")\n",
    "saveRDS(df_combined, file = \"df_combined.rds\")"
   ]
  },
  {
   "cell_type": "code",
   "execution_count": 2,
   "metadata": {},
   "outputs": [
    {
     "data": {
      "text/html": [
       "<table class=\"dataframe\">\n",
       "<caption>A matrix: 270 × 2 of type chr</caption>\n",
       "<thead>\n",
       "\t<tr><th></th><th scope=col>Package</th><th scope=col>Version</th></tr>\n",
       "</thead>\n",
       "<tbody>\n",
       "\t<tr><th scope=row>caret</th><td>caret              </td><td>6.0-94    </td></tr>\n",
       "\t<tr><th scope=row>ipred</th><td>ipred              </td><td>0.9-14    </td></tr>\n",
       "\t<tr><th scope=row>recipes</th><td>recipes            </td><td>1.0.8     </td></tr>\n",
       "\t<tr><th scope=row>class</th><td>class              </td><td>7.3-22    </td></tr>\n",
       "\t<tr><th scope=row>clock</th><td>clock              </td><td>0.7.0     </td></tr>\n",
       "\t<tr><th scope=row>diagram</th><td>diagram            </td><td>1.6.5     </td></tr>\n",
       "\t<tr><th scope=row>doParallel</th><td>doParallel         </td><td>1.0.17    </td></tr>\n",
       "\t<tr><th scope=row>dplyr</th><td>dplyr              </td><td>1.1.4     </td></tr>\n",
       "\t<tr><th scope=row>e1071</th><td>e1071              </td><td>1.7-14    </td></tr>\n",
       "\t<tr><th scope=row>fastDummies</th><td>fastDummies        </td><td>1.7.3     </td></tr>\n",
       "\t<tr><th scope=row>foreach</th><td>foreach            </td><td>1.5.2     </td></tr>\n",
       "\t<tr><th scope=row>future.apply</th><td>future.apply       </td><td>1.11.0    </td></tr>\n",
       "\t<tr><th scope=row>googleCloudStorageR</th><td>googleCloudStorageR</td><td>0.7.0     </td></tr>\n",
       "\t<tr><th scope=row>gower</th><td>gower              </td><td>1.0.1     </td></tr>\n",
       "\t<tr><th scope=row>hardhat</th><td>hardhat            </td><td>1.3.0     </td></tr>\n",
       "\t<tr><th scope=row>iterators</th><td>iterators          </td><td>1.0.14    </td></tr>\n",
       "\t<tr><th scope=row>KernSmooth</th><td>KernSmooth         </td><td>2.23-22   </td></tr>\n",
       "\t<tr><th scope=row>lava</th><td>lava               </td><td>1.7.3     </td></tr>\n",
       "\t<tr><th scope=row>lifecycle</th><td>lifecycle          </td><td>1.0.4     </td></tr>\n",
       "\t<tr><th scope=row>lobstr</th><td>lobstr             </td><td>1.1.2     </td></tr>\n",
       "\t<tr><th scope=row>ModelMetrics</th><td>ModelMetrics       </td><td>1.2.2.2   </td></tr>\n",
       "\t<tr><th scope=row>nnet</th><td>nnet               </td><td>7.3-19    </td></tr>\n",
       "\t<tr><th scope=row>numDeriv</th><td>numDeriv           </td><td>2016.8-1.1</td></tr>\n",
       "\t<tr><th scope=row>plyr</th><td>plyr               </td><td>1.8.9     </td></tr>\n",
       "\t<tr><th scope=row>pROC</th><td>pROC               </td><td>1.18.5    </td></tr>\n",
       "\t<tr><th scope=row>prodlim</th><td>prodlim            </td><td>2023.08.28</td></tr>\n",
       "\t<tr><th scope=row>profmem</th><td>profmem            </td><td>0.6.0     </td></tr>\n",
       "\t<tr><th scope=row>progressr</th><td>progressr          </td><td>0.14.0    </td></tr>\n",
       "\t<tr><th scope=row>proxy</th><td>proxy              </td><td>0.4-27    </td></tr>\n",
       "\t<tr><th scope=row>RcppEigen</th><td>RcppEigen          </td><td>0.3.3.9.4 </td></tr>\n",
       "\t<tr><th scope=row>⋮</th><td>⋮</td><td>⋮</td></tr>\n",
       "\t<tr><th scope=row>viridis</th><td>viridis     </td><td>0.6.4</td></tr>\n",
       "\t<tr><th scope=row>viridisLite</th><td>viridisLite </td><td>0.4.2</td></tr>\n",
       "\t<tr><th scope=row>vroom</th><td>vroom       </td><td>1.6.3</td></tr>\n",
       "\t<tr><th scope=row>waldo</th><td>waldo       </td><td>0.5.1</td></tr>\n",
       "\t<tr><th scope=row>whisker</th><td>whisker     </td><td>0.4.1</td></tr>\n",
       "\t<tr><th scope=row>whoami</th><td>whoami      </td><td>1.3.0</td></tr>\n",
       "\t<tr><th scope=row>withr</th><td>withr       </td><td>2.5.0</td></tr>\n",
       "\t<tr><th scope=row>wk</th><td>wk          </td><td>0.8.0</td></tr>\n",
       "\t<tr><th scope=row>xfun</th><td>xfun        </td><td>0.40 </td></tr>\n",
       "\t<tr><th scope=row>xml2</th><td>xml2        </td><td>1.3.5</td></tr>\n",
       "\t<tr><th scope=row>xmlparsedata</th><td>xmlparsedata</td><td>1.0.5</td></tr>\n",
       "\t<tr><th scope=row>xopen</th><td>xopen       </td><td>1.0.0</td></tr>\n",
       "\t<tr><th scope=row>xtable</th><td>xtable      </td><td>1.8-4</td></tr>\n",
       "\t<tr><th scope=row>yaml</th><td>yaml        </td><td>2.3.7</td></tr>\n",
       "\t<tr><th scope=row>zeallot</th><td>zeallot     </td><td>0.1.0</td></tr>\n",
       "\t<tr><th scope=row>zip</th><td>zip         </td><td>2.3.0</td></tr>\n",
       "\t<tr><th scope=row>base</th><td>base        </td><td>4.2.3</td></tr>\n",
       "\t<tr><th scope=row>compiler</th><td>compiler    </td><td>4.2.3</td></tr>\n",
       "\t<tr><th scope=row>datasets</th><td>datasets    </td><td>4.2.3</td></tr>\n",
       "\t<tr><th scope=row>graphics</th><td>graphics    </td><td>4.2.3</td></tr>\n",
       "\t<tr><th scope=row>grDevices</th><td>grDevices   </td><td>4.2.3</td></tr>\n",
       "\t<tr><th scope=row>grid</th><td>grid        </td><td>4.2.3</td></tr>\n",
       "\t<tr><th scope=row>methods</th><td>methods     </td><td>4.2.3</td></tr>\n",
       "\t<tr><th scope=row>parallel</th><td>parallel    </td><td>4.2.3</td></tr>\n",
       "\t<tr><th scope=row>splines</th><td>splines     </td><td>4.2.3</td></tr>\n",
       "\t<tr><th scope=row>stats</th><td>stats       </td><td>4.2.3</td></tr>\n",
       "\t<tr><th scope=row>stats4</th><td>stats4      </td><td>4.2.3</td></tr>\n",
       "\t<tr><th scope=row>tcltk</th><td>tcltk       </td><td>4.2.3</td></tr>\n",
       "\t<tr><th scope=row>tools</th><td>tools       </td><td>4.2.3</td></tr>\n",
       "\t<tr><th scope=row>utils</th><td>utils       </td><td>4.2.3</td></tr>\n",
       "</tbody>\n",
       "</table>\n"
      ],
      "text/latex": [
       "A matrix: 270 × 2 of type chr\n",
       "\\begin{tabular}{r|ll}\n",
       "  & Package & Version\\\\\n",
       "\\hline\n",
       "\tcaret & caret               & 6.0-94    \\\\\n",
       "\tipred & ipred               & 0.9-14    \\\\\n",
       "\trecipes & recipes             & 1.0.8     \\\\\n",
       "\tclass & class               & 7.3-22    \\\\\n",
       "\tclock & clock               & 0.7.0     \\\\\n",
       "\tdiagram & diagram             & 1.6.5     \\\\\n",
       "\tdoParallel & doParallel          & 1.0.17    \\\\\n",
       "\tdplyr & dplyr               & 1.1.4     \\\\\n",
       "\te1071 & e1071               & 1.7-14    \\\\\n",
       "\tfastDummies & fastDummies         & 1.7.3     \\\\\n",
       "\tforeach & foreach             & 1.5.2     \\\\\n",
       "\tfuture.apply & future.apply        & 1.11.0    \\\\\n",
       "\tgoogleCloudStorageR & googleCloudStorageR & 0.7.0     \\\\\n",
       "\tgower & gower               & 1.0.1     \\\\\n",
       "\thardhat & hardhat             & 1.3.0     \\\\\n",
       "\titerators & iterators           & 1.0.14    \\\\\n",
       "\tKernSmooth & KernSmooth          & 2.23-22   \\\\\n",
       "\tlava & lava                & 1.7.3     \\\\\n",
       "\tlifecycle & lifecycle           & 1.0.4     \\\\\n",
       "\tlobstr & lobstr              & 1.1.2     \\\\\n",
       "\tModelMetrics & ModelMetrics        & 1.2.2.2   \\\\\n",
       "\tnnet & nnet                & 7.3-19    \\\\\n",
       "\tnumDeriv & numDeriv            & 2016.8-1.1\\\\\n",
       "\tplyr & plyr                & 1.8.9     \\\\\n",
       "\tpROC & pROC                & 1.18.5    \\\\\n",
       "\tprodlim & prodlim             & 2023.08.28\\\\\n",
       "\tprofmem & profmem             & 0.6.0     \\\\\n",
       "\tprogressr & progressr           & 0.14.0    \\\\\n",
       "\tproxy & proxy               & 0.4-27    \\\\\n",
       "\tRcppEigen & RcppEigen           & 0.3.3.9.4 \\\\\n",
       "\t⋮ & ⋮ & ⋮\\\\\n",
       "\tviridis & viridis      & 0.6.4\\\\\n",
       "\tviridisLite & viridisLite  & 0.4.2\\\\\n",
       "\tvroom & vroom        & 1.6.3\\\\\n",
       "\twaldo & waldo        & 0.5.1\\\\\n",
       "\twhisker & whisker      & 0.4.1\\\\\n",
       "\twhoami & whoami       & 1.3.0\\\\\n",
       "\twithr & withr        & 2.5.0\\\\\n",
       "\twk & wk           & 0.8.0\\\\\n",
       "\txfun & xfun         & 0.40 \\\\\n",
       "\txml2 & xml2         & 1.3.5\\\\\n",
       "\txmlparsedata & xmlparsedata & 1.0.5\\\\\n",
       "\txopen & xopen        & 1.0.0\\\\\n",
       "\txtable & xtable       & 1.8-4\\\\\n",
       "\tyaml & yaml         & 2.3.7\\\\\n",
       "\tzeallot & zeallot      & 0.1.0\\\\\n",
       "\tzip & zip          & 2.3.0\\\\\n",
       "\tbase & base         & 4.2.3\\\\\n",
       "\tcompiler & compiler     & 4.2.3\\\\\n",
       "\tdatasets & datasets     & 4.2.3\\\\\n",
       "\tgraphics & graphics     & 4.2.3\\\\\n",
       "\tgrDevices & grDevices    & 4.2.3\\\\\n",
       "\tgrid & grid         & 4.2.3\\\\\n",
       "\tmethods & methods      & 4.2.3\\\\\n",
       "\tparallel & parallel     & 4.2.3\\\\\n",
       "\tsplines & splines      & 4.2.3\\\\\n",
       "\tstats & stats        & 4.2.3\\\\\n",
       "\tstats4 & stats4       & 4.2.3\\\\\n",
       "\ttcltk & tcltk        & 4.2.3\\\\\n",
       "\ttools & tools        & 4.2.3\\\\\n",
       "\tutils & utils        & 4.2.3\\\\\n",
       "\\end{tabular}\n"
      ],
      "text/markdown": [
       "\n",
       "A matrix: 270 × 2 of type chr\n",
       "\n",
       "| <!--/--> | Package | Version |\n",
       "|---|---|---|\n",
       "| caret | caret               | 6.0-94     |\n",
       "| ipred | ipred               | 0.9-14     |\n",
       "| recipes | recipes             | 1.0.8      |\n",
       "| class | class               | 7.3-22     |\n",
       "| clock | clock               | 0.7.0      |\n",
       "| diagram | diagram             | 1.6.5      |\n",
       "| doParallel | doParallel          | 1.0.17     |\n",
       "| dplyr | dplyr               | 1.1.4      |\n",
       "| e1071 | e1071               | 1.7-14     |\n",
       "| fastDummies | fastDummies         | 1.7.3      |\n",
       "| foreach | foreach             | 1.5.2      |\n",
       "| future.apply | future.apply        | 1.11.0     |\n",
       "| googleCloudStorageR | googleCloudStorageR | 0.7.0      |\n",
       "| gower | gower               | 1.0.1      |\n",
       "| hardhat | hardhat             | 1.3.0      |\n",
       "| iterators | iterators           | 1.0.14     |\n",
       "| KernSmooth | KernSmooth          | 2.23-22    |\n",
       "| lava | lava                | 1.7.3      |\n",
       "| lifecycle | lifecycle           | 1.0.4      |\n",
       "| lobstr | lobstr              | 1.1.2      |\n",
       "| ModelMetrics | ModelMetrics        | 1.2.2.2    |\n",
       "| nnet | nnet                | 7.3-19     |\n",
       "| numDeriv | numDeriv            | 2016.8-1.1 |\n",
       "| plyr | plyr                | 1.8.9      |\n",
       "| pROC | pROC                | 1.18.5     |\n",
       "| prodlim | prodlim             | 2023.08.28 |\n",
       "| profmem | profmem             | 0.6.0      |\n",
       "| progressr | progressr           | 0.14.0     |\n",
       "| proxy | proxy               | 0.4-27     |\n",
       "| RcppEigen | RcppEigen           | 0.3.3.9.4  |\n",
       "| ⋮ | ⋮ | ⋮ |\n",
       "| viridis | viridis      | 0.6.4 |\n",
       "| viridisLite | viridisLite  | 0.4.2 |\n",
       "| vroom | vroom        | 1.6.3 |\n",
       "| waldo | waldo        | 0.5.1 |\n",
       "| whisker | whisker      | 0.4.1 |\n",
       "| whoami | whoami       | 1.3.0 |\n",
       "| withr | withr        | 2.5.0 |\n",
       "| wk | wk           | 0.8.0 |\n",
       "| xfun | xfun         | 0.40  |\n",
       "| xml2 | xml2         | 1.3.5 |\n",
       "| xmlparsedata | xmlparsedata | 1.0.5 |\n",
       "| xopen | xopen        | 1.0.0 |\n",
       "| xtable | xtable       | 1.8-4 |\n",
       "| yaml | yaml         | 2.3.7 |\n",
       "| zeallot | zeallot      | 0.1.0 |\n",
       "| zip | zip          | 2.3.0 |\n",
       "| base | base         | 4.2.3 |\n",
       "| compiler | compiler     | 4.2.3 |\n",
       "| datasets | datasets     | 4.2.3 |\n",
       "| graphics | graphics     | 4.2.3 |\n",
       "| grDevices | grDevices    | 4.2.3 |\n",
       "| grid | grid         | 4.2.3 |\n",
       "| methods | methods      | 4.2.3 |\n",
       "| parallel | parallel     | 4.2.3 |\n",
       "| splines | splines      | 4.2.3 |\n",
       "| stats | stats        | 4.2.3 |\n",
       "| stats4 | stats4       | 4.2.3 |\n",
       "| tcltk | tcltk        | 4.2.3 |\n",
       "| tools | tools        | 4.2.3 |\n",
       "| utils | utils        | 4.2.3 |\n",
       "\n"
      ],
      "text/plain": [
       "                    Package             Version   \n",
       "caret               caret               6.0-94    \n",
       "ipred               ipred               0.9-14    \n",
       "recipes             recipes             1.0.8     \n",
       "class               class               7.3-22    \n",
       "clock               clock               0.7.0     \n",
       "diagram             diagram             1.6.5     \n",
       "doParallel          doParallel          1.0.17    \n",
       "dplyr               dplyr               1.1.4     \n",
       "e1071               e1071               1.7-14    \n",
       "fastDummies         fastDummies         1.7.3     \n",
       "foreach             foreach             1.5.2     \n",
       "future.apply        future.apply        1.11.0    \n",
       "googleCloudStorageR googleCloudStorageR 0.7.0     \n",
       "gower               gower               1.0.1     \n",
       "hardhat             hardhat             1.3.0     \n",
       "iterators           iterators           1.0.14    \n",
       "KernSmooth          KernSmooth          2.23-22   \n",
       "lava                lava                1.7.3     \n",
       "lifecycle           lifecycle           1.0.4     \n",
       "lobstr              lobstr              1.1.2     \n",
       "ModelMetrics        ModelMetrics        1.2.2.2   \n",
       "nnet                nnet                7.3-19    \n",
       "numDeriv            numDeriv            2016.8-1.1\n",
       "plyr                plyr                1.8.9     \n",
       "pROC                pROC                1.18.5    \n",
       "prodlim             prodlim             2023.08.28\n",
       "profmem             profmem             0.6.0     \n",
       "progressr           progressr           0.14.0    \n",
       "proxy               proxy               0.4-27    \n",
       "RcppEigen           RcppEigen           0.3.3.9.4 \n",
       "⋮                   ⋮                   ⋮         \n",
       "viridis             viridis             0.6.4     \n",
       "viridisLite         viridisLite         0.4.2     \n",
       "vroom               vroom               1.6.3     \n",
       "waldo               waldo               0.5.1     \n",
       "whisker             whisker             0.4.1     \n",
       "whoami              whoami              1.3.0     \n",
       "withr               withr               2.5.0     \n",
       "wk                  wk                  0.8.0     \n",
       "xfun                xfun                0.40      \n",
       "xml2                xml2                1.3.5     \n",
       "xmlparsedata        xmlparsedata        1.0.5     \n",
       "xopen               xopen               1.0.0     \n",
       "xtable              xtable              1.8-4     \n",
       "yaml                yaml                2.3.7     \n",
       "zeallot             zeallot             0.1.0     \n",
       "zip                 zip                 2.3.0     \n",
       "base                base                4.2.3     \n",
       "compiler            compiler            4.2.3     \n",
       "datasets            datasets            4.2.3     \n",
       "graphics            graphics            4.2.3     \n",
       "grDevices           grDevices           4.2.3     \n",
       "grid                grid                4.2.3     \n",
       "methods             methods             4.2.3     \n",
       "parallel            parallel            4.2.3     \n",
       "splines             splines             4.2.3     \n",
       "stats               stats               4.2.3     \n",
       "stats4              stats4              4.2.3     \n",
       "tcltk               tcltk               4.2.3     \n",
       "tools               tools               4.2.3     \n",
       "utils               utils               4.2.3     "
      ]
     },
     "metadata": {},
     "output_type": "display_data"
    }
   ],
   "source": [
    "installed_pkgs <- installed.packages()\n",
    "installed_pkgs[, c(\"Package\", \"Version\")]\n"
   ]
  },
  {
   "cell_type": "code",
   "execution_count": 1,
   "metadata": {},
   "outputs": [
    {
     "name": "stderr",
     "output_type": "stream",
     "text": [
      "Warning message in install.packages(\"glmnet\", lib = personal_lib_path):\n",
      "“installation of package ‘glmnet’ had non-zero exit status”\n"
     ]
    }
   ],
   "source": [
    "personal_lib_path <- \"~/R/x86_64-pc-linux-gnu-library/4.2\"\n",
    "dir.create(personal_lib_path, recursive = TRUE, showWarnings = FALSE)\n",
    ".libPaths(c(personal_lib_path, .libPaths()))\n",
    "install.packages(\"glmnet\", lib = personal_lib_path)\n"
   ]
  },
  {
   "cell_type": "code",
   "execution_count": 4,
   "metadata": {},
   "outputs": [],
   "source": [
    "df_sparse = readRDS(\"df_sparse.rds\")\n",
    "df_combined = readRDS(\"df_combined.rds\")\n",
    "final_analysis_df = readRDS(\"final_analysis_df.rds\")"
   ]
  },
  {
   "cell_type": "code",
   "execution_count": 6,
   "metadata": {},
   "outputs": [],
   "source": [
    "str(df_sparse)\n",
    "str(df_combined)\n",
    "str(final_analysis_df)\n"
   ]
  },
  {
   "cell_type": "code",
   "execution_count": null,
   "metadata": {},
   "outputs": [],
   "source": [
    "library(glmnet)\n",
    "\n",
    "# Save the identity and outcome variables separately\n",
    "identity_var <- final_analysis_df$customer_unique_id\n",
    "outcome_var <- final_analysis_df$RFM_avg\n",
    "\n",
    "# Ensure that response_variable is correctly defined\n",
    "response_variable <- outcome_var  # Make sure this is your desired outcome variable\n",
    "\n",
    "# Fit LASSO model\n",
    "lasso_model <- glmnet(df_sparse, response_variable, alpha = 1)\n",
    "\n",
    "# Selecting the best lambda (regularization parameter)\n",
    "cv_lasso <- cv.glmnet(df_sparse, response_variable, alpha = 1)\n",
    "best_lambda_lasso <- cv_lasso$lambda.min\n",
    "\n",
    "# Fit LASSO model with best lambda\n",
    "lasso_best <- glmnet(df_sparse, response_variable, alpha = 1, lambda = best_lambda_lasso)\n"
   ]
  },
  {
   "cell_type": "code",
   "execution_count": null,
   "metadata": {},
   "outputs": [],
   "source": [
    "# Fit Ridge model\n",
    "ridge_model <- glmnet(df_sparse, response_variable, alpha = 0)\n",
    "\n",
    "# Selecting the best lambda\n",
    "cv_ridge <- cv.glmnet(df_sparse, response_variable, alpha = 0)\n",
    "best_lambda_ridge <- cv_ridge$lambda.min\n",
    "\n",
    "# Fit Ridge model with best lambda\n",
    "ridge_best <- glmnet(df_sparse, response_variable, alpha = 0, lambda = best_lambda_ridge)\n"
   ]
  },
  {
   "cell_type": "code",
   "execution_count": null,
   "metadata": {},
   "outputs": [],
   "source": [
    "# Plot LASSO coefficients\n",
    "plot(lasso_best, xvar = \"lambda\", label = TRUE)\n",
    "\n",
    "# Plot Ridge coefficients\n",
    "plot(ridge_best, xvar = \"lambda\", label = TRUE)\n",
    "\n",
    "# Plot cross-validation error for LASSO\n",
    "plot(cv_lasso)\n",
    "\n",
    "# Plot cross-validation error for Ridge\n",
    "plot(cv_ridge)\n"
   ]
  },
  {
   "cell_type": "code",
   "execution_count": null,
   "metadata": {},
   "outputs": [],
   "source": [
    "# Save LASSO Coefficients Plot\n",
    "png(file = \"lasso_coefficients_plot.png\")\n",
    "plot(lasso_best, xvar = \"lambda\", label = TRUE)\n",
    "dev.off()  # Close the device\n"
   ]
  },
  {
   "cell_type": "code",
   "execution_count": null,
   "metadata": {},
   "outputs": [],
   "source": [
    "# Save Ridge Coefficients Plot\n",
    "png(file = \"ridge_coefficients_plot.png\")\n",
    "plot(ridge_best, xvar = \"lambda\", label = TRUE)\n",
    "dev.off()  # Close the device\n"
   ]
  },
  {
   "cell_type": "code",
   "execution_count": null,
   "metadata": {},
   "outputs": [],
   "source": [
    "# Save LASSO Cross-Validation Error Plot\n",
    "png(file = \"lasso_cv_error_plot.png\")\n",
    "plot(cv_lasso)\n",
    "dev.off()  # Close the device\n"
   ]
  },
  {
   "cell_type": "code",
   "execution_count": null,
   "metadata": {},
   "outputs": [],
   "source": [
    "# Save Ridge Cross-Validation Error Plot\n",
    "png(file = \"ridge_cv_error_plot.png\")\n",
    "plot(cv_ridge)\n",
    "dev.off()  # Close the device\n"
   ]
  },
  {
   "cell_type": "code",
   "execution_count": null,
   "metadata": {},
   "outputs": [],
   "source": [
    "# Assuming cv_lasso is the result from cv.glmnet\n",
    "lasso_coefs <- coef(cv_lasso, s = \"lambda.1se\")\n",
    "\n",
    "# Number of non-zero coefficients (excluding intercept)\n",
    "non_zero_coefs <- sum(lasso_coefs[-1, ] != 0)\n",
    "\n",
    "# Print the number of selected features\n",
    "print(non_zero_coefs)\n"
   ]
  },
  {
   "cell_type": "code",
   "execution_count": null,
   "metadata": {},
   "outputs": [],
   "source": [
    "# Extract the coefficients for the value of lambda.1se \n",
    "lasso_coefs <- coef(cv_lasso, s = \"lambda.1se\")\n",
    "\n",
    "# Coerce the matrix to a regular dense format\n",
    "lasso_coefs_matrix <- as.matrix(lasso_coefs)\n",
    "\n",
    "# Create a data frame from the matrix\n",
    "lasso_coefs_df <- data.frame(\n",
    "  Feature = rownames(lasso_coefs_matrix),\n",
    "  Coefficient = lasso_coefs_matrix[, 1]\n",
    ")\n",
    "\n",
    "# Remove the intercept and select non-zero coefficients\n",
    "selected_features <- lasso_coefs_df[lasso_coefs_df$Coefficient != 0 & lasso_coefs_df$Feature != \"(Intercept)\", , drop = FALSE]\n",
    "\n",
    "# View the selected features and their coefficients\n",
    "print(selected_features)\n",
    "\n",
    "saveRDS(selected_features, \"lasso_1se_features.rds\")\n",
    "\n"
   ]
  },
  {
   "cell_type": "code",
   "execution_count": null,
   "metadata": {},
   "outputs": [],
   "source": [
    "\n",
    "# Extract non-zero coefficients from the lasso model at lambda.min\n",
    "lasso_coefs_min <- coef(cv_lasso, s = \"lambda.min\")\n",
    "\n",
    "# Convert the sparse matrix to a regular dense format and exclude the intercept\n",
    "lasso_coefs_min_dense <- as.matrix(lasso_coefs_min)[-1, , drop = FALSE]  # Excluding the intercept\n",
    "\n",
    "# Remove rows with zero coefficients\n",
    "lasso_coefs_min_dense_nonzero = lasso_coefs_min_dense[lasso_coefs_min_dense[, 1] != 0, ]\n",
    "\n",
    "print(lasso_coefs_min_dense_nonzero)\n",
    "\n",
    "saveRDS(lasso_coefs_min_dense_nonzero, \"lasso_min_nonzero_coefs.rds\")"
   ]
  },
  {
   "cell_type": "code",
   "execution_count": null,
   "metadata": {},
   "outputs": [],
   "source": [
    "# Extract non-zero coefficients from the ridge model at lambda.min\n",
    "ridge_coefs_min <- coef(cv_ridge, s = \"lambda.min\")\n",
    "\n",
    "# Convert the sparse matrix to a regular dense format and exclude the intercept\n",
    "ridge_coefs_min_dense <- as.matrix(ridge_coefs_min)[-1, , drop = FALSE]  # Excluding the intercept\n",
    "\n",
    "# Remove rows with zero coefficients\n",
    "ridge_coefs_min_dense_nonzero = ridge_coefs_min_dense[ridge_coefs_min_dense[, 1] != 0, ]\n",
    "\n",
    "print(ridge_coefs_min_dense_nonzero)\n",
    "\n",
    "saveRDS(ridge_coefs_min_dense_nonzero, \"ridge_min_nonzero_coefs.rds\")"
   ]
  },
  {
   "cell_type": "code",
   "execution_count": null,
   "metadata": {},
   "outputs": [],
   "source": [
    "# Inspect the first few selected variable names\n",
    "print(head(selected_vars))\n",
    "\n",
    "# Inspect the column names of df_sparse\n",
    "print(colnames(df_sparse))\n",
    "\n",
    "# Check if selected_vars are actually in df_sparse's column names\n",
    "print(all(selected_vars %in% colnames(df_sparse)))\n"
   ]
  },
  {
   "cell_type": "code",
   "execution_count": null,
   "metadata": {},
   "outputs": [],
   "source": [
    "# Extract non-zero coefficients from the lasso model at lambda.min\n",
    "lasso_coefs_min <- coef(cv_lasso, s = \"lambda.min\")\n",
    "\n",
    "# Convert the sparse matrix to a regular dense format and exclude the intercept\n",
    "lasso_coefs_min_dense <- as.matrix(lasso_coefs_min)[-1, , drop = FALSE]  # Excluding the intercept\n",
    "\n",
    "# Remove rows with zero coefficients\n",
    "lasso_coefs_min_dense_nonzero <- lasso_coefs_min_dense[lasso_coefs_min_dense[, 1] != 0, ]\n",
    "\n",
    "# Extract the names of the variables with non-zero coefficients\n",
    "selected_vars <- rownames(lasso_coefs_min_dense_nonzero)\n",
    "\n",
    "# Check the content of selected_vars\n",
    "print(selected_vars)\n"
   ]
  },
  {
   "cell_type": "code",
   "execution_count": 43,
   "metadata": {},
   "outputs": [
    {
     "name": "stdout",
     "output_type": "stream",
     "text": [
      "character(0)\n",
      "Formal class 'dgCMatrix' [package \"Matrix\"] with 6 slots\n",
      "  ..@ i       : int(0) \n",
      "  ..@ p       : int 0\n",
      "  ..@ Dim     : int [1:2] 94439 0\n",
      "  ..@ Dimnames:List of 2\n",
      "  .. ..$ : chr [1:94439] \"1.1\" \"1.2\" \"1.3\" \"1.4\" ...\n",
      "  .. ..$ : NULL\n",
      "  ..@ x       : num(0) \n",
      "  ..@ factors : list()\n",
      "Formal class 'dgCMatrix' [package \"Matrix\"] with 6 slots\n",
      "  ..@ i       : int(0) \n",
      "  ..@ p       : int 0\n",
      "  ..@ Dim     : int [1:2] 94439 0\n",
      "  ..@ Dimnames:List of 2\n",
      "  .. ..$ : chr [1:94439] \"1.1\" \"1.2\" \"1.3\" \"1.4\" ...\n",
      "  .. ..$ : NULL\n",
      "  ..@ x       : num(0) \n",
      "  ..@ factors : list()\n"
     ]
    }
   ],
   "source": [
    "# Print a few selected variables\n",
    "print(head(selected_vars))\n",
    "\n",
    "# Manually subset a few columns\n",
    "df_selected_test <- df_sparse[, colnames(df_sparse) %in% head(selected_vars)]\n",
    "str(df_selected_test)\n",
    "\n",
    "# Alternative subsetting\n",
    "col_indices <- which(colnames(df_sparse) %in% selected_vars)\n",
    "df_selected_alternative <- df_sparse[, col_indices, drop = FALSE]\n",
    "str(df_selected_alternative)\n"
   ]
  },
  {
   "cell_type": "code",
   "execution_count": 32,
   "metadata": {},
   "outputs": [
    {
     "name": "stderr",
     "output_type": "stream",
     "text": [
      "Installing package into ‘/home/jupyter/R/x86_64-pc-linux-gnu-library/4.2’\n",
      "(as ‘lib’ is unspecified)\n",
      "\n",
      "also installing the dependencies ‘ipred’, ‘recipes’\n",
      "\n",
      "\n"
     ]
    }
   ],
   "source": [
    "install.packages(\"caret\")"
   ]
  },
  {
   "cell_type": "code",
   "execution_count": 38,
   "metadata": {},
   "outputs": [
    {
     "name": "stdout",
     "output_type": "stream",
     "text": [
      " num(0) \n"
     ]
    }
   ],
   "source": [
    "str(df_selected)"
   ]
  },
  {
   "cell_type": "code",
   "execution_count": 33,
   "metadata": {},
   "outputs": [
    {
     "name": "stderr",
     "output_type": "stream",
     "text": [
      "Loading required package: ggplot2\n",
      "\n",
      "Loading required package: lattice\n",
      "\n",
      "Warning message in system(\"timedatectl\", intern = TRUE):\n",
      "“running command 'timedatectl' had status 1”\n"
     ]
    },
    {
     "ename": "ERROR",
     "evalue": "Error in df_selected[trainIndex, , drop = FALSE]: incorrect number of dimensions\n",
     "output_type": "error",
     "traceback": [
      "Error in df_selected[trainIndex, , drop = FALSE]: incorrect number of dimensions\nTraceback:\n"
     ]
    }
   ],
   "source": [
    "# Split df_selected into train and test datasets\n",
    "library(caret)\n",
    "set.seed(123)\n",
    "trainIndex = createDataPartition(outcome_var, p = 0.8, list = FALSE)\n",
    "train_data = df_selected[trainIndex, , drop = FALSE]\n",
    "test_data = df_selected[-trainIndex, , drop = FALSE]\n",
    "train_labels = outcome_var[trainIndex]\n",
    "test_labels = outcome_var[-trainIndex]"
   ]
  },
  {
   "cell_type": "code",
   "execution_count": null,
   "metadata": {},
   "outputs": [],
   "source": [
    "# Convert training data to xgboost"
   ]
  }
 ],
 "metadata": {
  "kernelspec": {
   "display_name": "R (Local)",
   "language": "R",
   "name": "local-r"
  },
  "language_info": {
   "codemirror_mode": "r",
   "file_extension": ".r",
   "mimetype": "text/x-r-source",
   "name": "R",
   "pygments_lexer": "r",
   "version": "4.2.3"
  }
 },
 "nbformat": 4,
 "nbformat_minor": 4
}
